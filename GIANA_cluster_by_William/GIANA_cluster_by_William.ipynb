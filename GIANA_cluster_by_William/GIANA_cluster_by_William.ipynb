{
 "cells": [
  {
   "cell_type": "code",
   "execution_count": null,
   "id": "8706ea52",
   "metadata": {},
   "outputs": [],
   "source": [
    "# # Extract the'cdr3 'column\n",
    "# cdr3_series = vdj_df['cdr3']\n",
    "\n",
    "# # Set the file save path\n",
    "# save_path = r'C:\\Users\\13728\\Desktop\\Mini Project\\GIANA\\cdr3_column.txt'\n",
    "\n",
    "# # Store the'cdr3 'column into a text file at the specified path, one line per element\n",
    "# cdr3_series.to_csv(save_path, index=False, header=False)"
   ]
  },
  {
   "cell_type": "code",
   "execution_count": null,
   "id": "b34196ec",
   "metadata": {},
   "outputs": [],
   "source": [
    "# !pip install biopython\n",
    "# !pip install query"
   ]
  },
  {
   "cell_type": "code",
   "execution_count": 1,
   "id": "08c8b8b2",
   "metadata": {},
   "outputs": [
    {
     "name": "stdout",
     "output_type": "stream",
     "text": [
      "\n",
      "GIANA: Geometric Isometry based ANtigen-specific tcr Alignment\n",
      "Ultrafast short peptide alignment exclusively designed for large-scale adaptome analysis\n",
      "\n",
      "Input columns:\n",
      "1. CDR3 amino acid sequence (Starting from C, ending with the first F/L in motif [FL]G.G)\n",
      "2. Variable gene name in Imgt format: TRBVXX-XX*XX\n",
      "3. Joining gene name (optional)\n",
      "4. Frequency (optional)\n",
      "5. Other information (optional)\n",
      "\n",
      "!!! ALL amino acid letters must be CAPITAL !!!\n",
      "\n",
      "\n",
      "Usage: GIANA4.1.py [options]\n",
      "\n",
      "Options:\n",
      "  -h, --help            show this help message and exit\n",
      "  -d DIRECTORY, --directory=DIRECTORY\n",
      "                        Input repertoire sequencing file directory. Please\n",
      "                        make sure that all the files in the directory are\n",
      "                        input files.\n",
      "  -f FILE, --file=FILE  Input single file of CDR3 sequences for grouping\n",
      "  -F FILES, --fileList=FILES\n",
      "                        Alternative input: a file containing the full path to\n",
      "                        all the files. If given, overwrite -d and -f option\n",
      "  -t THR, --threshold=THR\n",
      "                        Isometric distance threshold for calling similar CDR3\n",
      "                        groups. Without -E, smaller value will increase speed.\n",
      "                        With -E, smaller value will increase specificity. Must\n",
      "                        be smaller than 12.\n",
      "  -S THR_S, --threshold_score=THR_S\n",
      "                        Threshold for Smith-Waterman alignment score\n",
      "                        (normalized by CDR3 length). Default 3.5\n",
      "  -G THR_V, --threshold_vgene=THR_V\n",
      "                        Threshold for variable gene comparison. Default 3.7.\n",
      "  -o OUTDIR, --output=OUTDIR\n",
      "                        Output directory for intermediate and final outputs.\n",
      "  -O OUTFILE, --outfile=OUTFILE\n",
      "                        Output file name. If not given, a file with\n",
      "                        --RotationEncoding will be added to the input file as\n",
      "                        the output file name.\n",
      "  -T ST, --startPosition=ST\n",
      "                        Starting position of CDR3 sequence. The first ST\n",
      "                        letters are omitted. CDR3 sequence length L must be >=\n",
      "                        ST+7\n",
      "  -g GAP, --GapPenalty=GAP\n",
      "                        Gap penalty,default= -6. Not used.\n",
      "  -n GAPN, --GapNumber=GAPN\n",
      "                        Maximum number of gaps allowed when performing\n",
      "                        alignment. Max=1, default=1. Not used.\n",
      "  -V VFA, --VariableGeneFa=VFA\n",
      "                        IMGT Human beta variable gene sequences\n",
      "  -v, --VariableGene    If False, GIANA will omit variable gene information\n",
      "                        and use CDR3 sequences only. This will yield reduced\n",
      "                        specificity. The cut-off will automatically become the\n",
      "                        current value-4.0\n",
      "  -e, --Exact           If False, GIANA will not perform Smith-Waterman\n",
      "                        alignment after isometric encoding.\n",
      "  -N NN, --NumberOfThreads=NN\n",
      "                        Number of threads for multiple processing. Not working\n",
      "                        so well.\n",
      "  -M, --EncodingMatrix  If true, GIANA will export the isometric encoding\n",
      "                        matrix for each TCR. Default: False.\n",
      "  -U, --UseGPU          Use GPU for Faiss indexing. Must be CUDA GPUs.\n",
      "  -q QUERY, --queryFile=QUERY\n",
      "                        Input query file, if given, GIANA will run in query\n",
      "                        mode, also need to provide -r option.\n",
      "  -r REF, --refFile=REF\n",
      "                        Input reference file. Query model required.\n",
      "  -b, --Verbose         Verbose option: if given, GIANA will print\n",
      "                        intermediate messages.\n"
     ]
    },
    {
     "name": "stderr",
     "output_type": "stream",
     "text": [
      "C:\\Users\\13728\\anaconda3\\Lib\\site-packages\\sklearn\\manifold\\_mds.py:298: FutureWarning: The default value of `normalized_stress` will change to `'auto'` in version 1.4. To suppress this warning, manually set the value of `normalized_stress`.\n",
      "  warnings.warn(\n"
     ]
    }
   ],
   "source": [
    "!python GIANA4.1.py -h"
   ]
  },
  {
   "cell_type": "code",
   "execution_count": 2,
   "id": "aba486c7",
   "metadata": {},
   "outputs": [
    {
     "name": "stdout",
     "output_type": "stream",
     "text": [
      "\n",
      "GIANA: Geometric Isometry based ANtigen-specific tcr Alignment\n",
      "Ultrafast short peptide alignment exclusively designed for large-scale adaptome analysis\n",
      "\n",
      "Input columns:\n",
      "1. CDR3 amino acid sequence (Starting from C, ending with the first F/L in motif [FL]G.G)\n",
      "2. Variable gene name in Imgt format: TRBVXX-XX*XX\n",
      "3. Joining gene name (optional)\n",
      "4. Frequency (optional)\n",
      "5. Other information (optional)\n",
      "\n",
      "!!! ALL amino acid letters must be CAPITAL !!!\n",
      "\n",
      "\n"
     ]
    },
    {
     "name": "stderr",
     "output_type": "stream",
     "text": [
      "C:\\Users\\13728\\anaconda3\\Lib\\site-packages\\sklearn\\manifold\\_mds.py:298: FutureWarning: The default value of `normalized_stress` will change to `'auto'` in version 1.4. To suppress this warning, manually set the value of `normalized_stress`.\n",
      "  warnings.warn(\n",
      "Traceback (most recent call last):\n",
      "  File \"C:\\Users\\13728\\Desktop\\Mini Project\\GIANA_cluster_by_William\\GIANA4.1.py\", line 1258, in <module>\n",
      "    main()\n",
      "  File \"C:\\Users\\13728\\Desktop\\Mini Project\\GIANA_cluster_by_William\\GIANA4.1.py\", line 1227, in main\n",
      "    PreCalculateVgeneDist(VFa)\n",
      "  File \"C:\\Users\\13728\\Desktop\\Mini Project\\GIANA_cluster_by_William\\GIANA4.1.py\", line 640, in PreCalculateVgeneDist\n",
      "    FaDict=ParseFa(cur_dir+VgeneFa)\n",
      "           ^^^^^^^^^^^^^^^^^^^^^^^^\n",
      "  File \"C:\\Users\\13728\\Desktop\\Mini Project\\GIANA_cluster_by_William\\GIANA4.1.py\", line 623, in ParseFa\n",
      "    InputStr=open(fname).readlines()\n",
      "             ^^^^^^^^^^^\n",
      "FileNotFoundError: [Errno 2] No such file or directory: 'C:\\\\Users\\\\13728\\\\Desktop\\\\Mini Project\\\\GIANA_cluster_by_William/Imgt_Human_TRBV.fasta'\n"
     ]
    }
   ],
   "source": [
    "!python GIANA4.1.py -f cdr3_column.txt -v"
   ]
  },
  {
   "cell_type": "code",
   "execution_count": null,
   "id": "aa5b3321",
   "metadata": {},
   "outputs": [],
   "source": []
  }
 ],
 "metadata": {
  "kernelspec": {
   "display_name": "Python 3 (ipykernel)",
   "language": "python",
   "name": "python3"
  },
  "language_info": {
   "codemirror_mode": {
    "name": "ipython",
    "version": 3
   },
   "file_extension": ".py",
   "mimetype": "text/x-python",
   "name": "python",
   "nbconvert_exporter": "python",
   "pygments_lexer": "ipython3",
   "version": "3.11.4"
  }
 },
 "nbformat": 4,
 "nbformat_minor": 5
}
